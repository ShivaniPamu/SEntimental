# ===============================
# Interactive Sentiment Analysis
# ===============================

# 1️⃣ Imports
import pandas as pd
import pickle
import re
import nltk
from nltk.corpus import stopwords
from nltk.stem import WordNetLemmatizer

nltk.download("stopwords")
nltk.download("wordnet")

# 2️⃣ Load model and vectorizer
with open("models/logreg_model.pkl", "rb") as f:
    model = pickle.load(f)

with open("models/tfidf_vectorizer.pkl", "rb") as f:
    tfidf = pickle.load(f)

# 3️⃣ Text preprocessing function
stop_words = set(stopwords.words("english"))
lemmatizer = WordNetLemmatizer()

def clean_text(text):
    text = text.lower()
    text = re.sub(r"[^a-z\s]", "", text)
    tokens = [lemmatizer.lemmatize(w) for w in text.split() if w not in stop_words]
    return " ".join(tokens)

# 4️⃣ User input
review = input("Enter your review: ")

# 5️⃣ Preprocess
clean_review = clean_text(review)
X_vec = tfidf.transform([clean_review])

# 6️⃣ Predict sentiment
pred = model.predict(X_vec)[0]
prob = model.predict_proba(X_vec)[0]

print(f"\nPredicted Sentiment: {pred}")
print(f"Prediction Probabilities: {dict(zip(model.classes_, prob))}")

